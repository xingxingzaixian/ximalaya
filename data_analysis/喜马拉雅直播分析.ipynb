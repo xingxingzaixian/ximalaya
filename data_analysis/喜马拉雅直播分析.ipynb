{
 "cells": [
  {
   "cell_type": "code",
   "execution_count": 4,
   "metadata": {},
   "outputs": [],
   "source": [
    "import pymongo\n",
    "import pandas as pd\n",
    "import numpy as np\n",
    "import matplotlib.pyplot as plt\n",
    "\n",
    "plt.rcParams['font.family'] = ['sans-serif']\n",
    "plt.rcParams['font.sans-serif'] = ['WenQuanYi Zen Hei']"
   ]
  },
  {
   "cell_type": "code",
   "execution_count": 5,
   "metadata": {},
   "outputs": [],
   "source": [
    "client = pymongo.MongoClient('localhost',27017)\n",
    "db  = client['ximalaya']\n",
    "gift_rank = db['gift_rank']"
   ]
  },
  {
   "cell_type": "code",
   "execution_count": 6,
   "metadata": {},
   "outputs": [],
   "source": [
    "data = pd.DataFrame(list(gift_rank.find()))"
   ]
  },
  {
   "cell_type": "markdown",
   "metadata": {},
   "source": [
    "- 删除MongoDB中的_id列"
   ]
  },
  {
   "cell_type": "code",
   "execution_count": 7,
   "metadata": {},
   "outputs": [],
   "source": [
    "data.drop(['_id'], axis=1, inplace=True)"
   ]
  },
  {
   "cell_type": "markdown",
   "metadata": {},
   "source": [
    "- 查看数据类型"
   ]
  },
  {
   "cell_type": "code",
   "execution_count": 8,
   "metadata": {},
   "outputs": [
    {
     "data": {
      "text/plain": [
       "contribution      int64\n",
       "liveStatus      float64\n",
       "nickname         object\n",
       "rank              int64\n",
       "uid               int64\n",
       "roomId          float64\n",
       "type             object\n",
       "create_time      object\n",
       "dtype: object"
      ]
     },
     "execution_count": 8,
     "metadata": {},
     "output_type": "execute_result"
    }
   ],
   "source": [
    "data.dtypes"
   ]
  },
  {
   "cell_type": "markdown",
   "metadata": {},
   "source": [
    "- 查看所有包含NaN的数据"
   ]
  },
  {
   "cell_type": "code",
   "execution_count": 9,
   "metadata": {},
   "outputs": [
    {
     "data": {
      "text/html": [
       "<div>\n",
       "<style scoped>\n",
       "    .dataframe tbody tr th:only-of-type {\n",
       "        vertical-align: middle;\n",
       "    }\n",
       "\n",
       "    .dataframe tbody tr th {\n",
       "        vertical-align: top;\n",
       "    }\n",
       "\n",
       "    .dataframe thead th {\n",
       "        text-align: right;\n",
       "    }\n",
       "</style>\n",
       "<table border=\"1\" class=\"dataframe\">\n",
       "  <thead>\n",
       "    <tr style=\"text-align: right;\">\n",
       "      <th></th>\n",
       "      <th>contribution</th>\n",
       "      <th>liveStatus</th>\n",
       "      <th>nickname</th>\n",
       "      <th>rank</th>\n",
       "      <th>uid</th>\n",
       "      <th>roomId</th>\n",
       "      <th>type</th>\n",
       "      <th>create_time</th>\n",
       "    </tr>\n",
       "  </thead>\n",
       "  <tbody>\n",
       "    <tr>\n",
       "      <td>1613</td>\n",
       "      <td>870</td>\n",
       "      <td>NaN</td>\n",
       "      <td>____小丑</td>\n",
       "      <td>35</td>\n",
       "      <td>161184145</td>\n",
       "      <td>NaN</td>\n",
       "      <td>hour</td>\n",
       "      <td>2020-02-14 02:58:03</td>\n",
       "    </tr>\n",
       "    <tr>\n",
       "      <td>9167</td>\n",
       "      <td>160</td>\n",
       "      <td>NaN</td>\n",
       "      <td>珊珊夜阑</td>\n",
       "      <td>22</td>\n",
       "      <td>199140543</td>\n",
       "      <td>NaN</td>\n",
       "      <td>hour</td>\n",
       "      <td>2020-02-20 06:58:02</td>\n",
       "    </tr>\n",
       "  </tbody>\n",
       "</table>\n",
       "</div>"
      ],
      "text/plain": [
       "      contribution  liveStatus nickname  rank        uid  roomId  type  \\\n",
       "1613           870         NaN   ____小丑    35  161184145     NaN  hour   \n",
       "9167           160         NaN     珊珊夜阑    22  199140543     NaN  hour   \n",
       "\n",
       "              create_time  \n",
       "1613  2020-02-14 02:58:03  \n",
       "9167  2020-02-20 06:58:02  "
      ]
     },
     "execution_count": 9,
     "metadata": {},
     "output_type": "execute_result"
    }
   ],
   "source": [
    "data[data.isnull().T.any().T]"
   ]
  },
  {
   "cell_type": "markdown",
   "metadata": {},
   "source": [
    "- 将NaN值修改为指定值，因为包含NaN的列在进行类型转换时会出错"
   ]
  },
  {
   "cell_type": "code",
   "execution_count": 10,
   "metadata": {},
   "outputs": [],
   "source": [
    "values = {'liveStatus': 0, 'roomId': 0}\n",
    "data.fillna(value=values, inplace=True)"
   ]
  },
  {
   "cell_type": "markdown",
   "metadata": {},
   "source": [
    "- 修改liveStatus、roomId数据类型"
   ]
  },
  {
   "cell_type": "code",
   "execution_count": 11,
   "metadata": {},
   "outputs": [],
   "source": [
    "data = data.astype({'liveStatus': np.int64, 'roomId': np.int64})"
   ]
  },
  {
   "cell_type": "code",
   "execution_count": 12,
   "metadata": {},
   "outputs": [
    {
     "data": {
      "text/plain": [
       "contribution     int64\n",
       "liveStatus       int64\n",
       "nickname        object\n",
       "rank             int64\n",
       "uid              int64\n",
       "roomId           int64\n",
       "type            object\n",
       "create_time     object\n",
       "dtype: object"
      ]
     },
     "execution_count": 12,
     "metadata": {},
     "output_type": "execute_result"
    }
   ],
   "source": [
    "data.dtypes"
   ]
  },
  {
   "cell_type": "code",
   "execution_count": 13,
   "metadata": {},
   "outputs": [
    {
     "data": {
      "text/html": [
       "<div>\n",
       "<style scoped>\n",
       "    .dataframe tbody tr th:only-of-type {\n",
       "        vertical-align: middle;\n",
       "    }\n",
       "\n",
       "    .dataframe tbody tr th {\n",
       "        vertical-align: top;\n",
       "    }\n",
       "\n",
       "    .dataframe thead th {\n",
       "        text-align: right;\n",
       "    }\n",
       "</style>\n",
       "<table border=\"1\" class=\"dataframe\">\n",
       "  <thead>\n",
       "    <tr style=\"text-align: right;\">\n",
       "      <th></th>\n",
       "      <th>contribution</th>\n",
       "      <th>liveStatus</th>\n",
       "      <th>nickname</th>\n",
       "      <th>rank</th>\n",
       "      <th>uid</th>\n",
       "      <th>roomId</th>\n",
       "      <th>type</th>\n",
       "      <th>create_time</th>\n",
       "    </tr>\n",
       "  </thead>\n",
       "  <tbody>\n",
       "    <tr>\n",
       "      <td>0</td>\n",
       "      <td>5299</td>\n",
       "      <td>9</td>\n",
       "      <td>逗瓣</td>\n",
       "      <td>1</td>\n",
       "      <td>4416963</td>\n",
       "      <td>114</td>\n",
       "      <td>hour</td>\n",
       "      <td>2020-02-12 19:58:00</td>\n",
       "    </tr>\n",
       "    <tr>\n",
       "      <td>1</td>\n",
       "      <td>4069</td>\n",
       "      <td>9</td>\n",
       "      <td>萌叽_三月三</td>\n",
       "      <td>2</td>\n",
       "      <td>130564791</td>\n",
       "      <td>930094</td>\n",
       "      <td>hour</td>\n",
       "      <td>2020-02-12 19:58:00</td>\n",
       "    </tr>\n",
       "    <tr>\n",
       "      <td>2</td>\n",
       "      <td>3307</td>\n",
       "      <td>9</td>\n",
       "      <td>董咚儿_JLsound</td>\n",
       "      <td>3</td>\n",
       "      <td>84434603</td>\n",
       "      <td>1244753</td>\n",
       "      <td>hour</td>\n",
       "      <td>2020-02-12 19:58:00</td>\n",
       "    </tr>\n",
       "    <tr>\n",
       "      <td>3</td>\n",
       "      <td>3173</td>\n",
       "      <td>9</td>\n",
       "      <td>亚辰_燃点娱乐</td>\n",
       "      <td>4</td>\n",
       "      <td>197467038</td>\n",
       "      <td>1587616</td>\n",
       "      <td>hour</td>\n",
       "      <td>2020-02-12 19:58:00</td>\n",
       "    </tr>\n",
       "    <tr>\n",
       "      <td>4</td>\n",
       "      <td>2941</td>\n",
       "      <td>9</td>\n",
       "      <td>半岛玫瑰_九星</td>\n",
       "      <td>5</td>\n",
       "      <td>7312748</td>\n",
       "      <td>17214</td>\n",
       "      <td>hour</td>\n",
       "      <td>2020-02-12 19:58:00</td>\n",
       "    </tr>\n",
       "  </tbody>\n",
       "</table>\n",
       "</div>"
      ],
      "text/plain": [
       "   contribution  liveStatus     nickname  rank        uid   roomId  type  \\\n",
       "0          5299           9           逗瓣     1    4416963      114  hour   \n",
       "1          4069           9       萌叽_三月三     2  130564791   930094  hour   \n",
       "2          3307           9  董咚儿_JLsound     3   84434603  1244753  hour   \n",
       "3          3173           9      亚辰_燃点娱乐     4  197467038  1587616  hour   \n",
       "4          2941           9      半岛玫瑰_九星     5    7312748    17214  hour   \n",
       "\n",
       "           create_time  \n",
       "0  2020-02-12 19:58:00  \n",
       "1  2020-02-12 19:58:00  \n",
       "2  2020-02-12 19:58:00  \n",
       "3  2020-02-12 19:58:00  \n",
       "4  2020-02-12 19:58:00  "
      ]
     },
     "execution_count": 13,
     "metadata": {},
     "output_type": "execute_result"
    }
   ],
   "source": [
    "data.head()"
   ]
  },
  {
   "cell_type": "markdown",
   "metadata": {},
   "source": [
    "- 复制一份数据用于统计分时数据"
   ]
  },
  {
   "cell_type": "code",
   "execution_count": 14,
   "metadata": {},
   "outputs": [],
   "source": [
    "df_hour = data.copy()"
   ]
  },
  {
   "cell_type": "markdown",
   "metadata": {},
   "source": [
    "- 将时间字符串转为时间对象"
   ]
  },
  {
   "cell_type": "code",
   "execution_count": 15,
   "metadata": {},
   "outputs": [
    {
     "data": {
      "text/html": [
       "<div>\n",
       "<style scoped>\n",
       "    .dataframe tbody tr th:only-of-type {\n",
       "        vertical-align: middle;\n",
       "    }\n",
       "\n",
       "    .dataframe tbody tr th {\n",
       "        vertical-align: top;\n",
       "    }\n",
       "\n",
       "    .dataframe thead th {\n",
       "        text-align: right;\n",
       "    }\n",
       "</style>\n",
       "<table border=\"1\" class=\"dataframe\">\n",
       "  <thead>\n",
       "    <tr style=\"text-align: right;\">\n",
       "      <th></th>\n",
       "      <th>contribution</th>\n",
       "      <th>liveStatus</th>\n",
       "      <th>nickname</th>\n",
       "      <th>rank</th>\n",
       "      <th>uid</th>\n",
       "      <th>roomId</th>\n",
       "      <th>type</th>\n",
       "      <th>create_time</th>\n",
       "    </tr>\n",
       "  </thead>\n",
       "  <tbody>\n",
       "    <tr>\n",
       "      <td>0</td>\n",
       "      <td>5299</td>\n",
       "      <td>9</td>\n",
       "      <td>逗瓣</td>\n",
       "      <td>1</td>\n",
       "      <td>4416963</td>\n",
       "      <td>114</td>\n",
       "      <td>hour</td>\n",
       "      <td>2020-02-12 19:58:00</td>\n",
       "    </tr>\n",
       "    <tr>\n",
       "      <td>1</td>\n",
       "      <td>4069</td>\n",
       "      <td>9</td>\n",
       "      <td>萌叽_三月三</td>\n",
       "      <td>2</td>\n",
       "      <td>130564791</td>\n",
       "      <td>930094</td>\n",
       "      <td>hour</td>\n",
       "      <td>2020-02-12 19:58:00</td>\n",
       "    </tr>\n",
       "    <tr>\n",
       "      <td>2</td>\n",
       "      <td>3307</td>\n",
       "      <td>9</td>\n",
       "      <td>董咚儿_JLsound</td>\n",
       "      <td>3</td>\n",
       "      <td>84434603</td>\n",
       "      <td>1244753</td>\n",
       "      <td>hour</td>\n",
       "      <td>2020-02-12 19:58:00</td>\n",
       "    </tr>\n",
       "    <tr>\n",
       "      <td>3</td>\n",
       "      <td>3173</td>\n",
       "      <td>9</td>\n",
       "      <td>亚辰_燃点娱乐</td>\n",
       "      <td>4</td>\n",
       "      <td>197467038</td>\n",
       "      <td>1587616</td>\n",
       "      <td>hour</td>\n",
       "      <td>2020-02-12 19:58:00</td>\n",
       "    </tr>\n",
       "    <tr>\n",
       "      <td>4</td>\n",
       "      <td>2941</td>\n",
       "      <td>9</td>\n",
       "      <td>半岛玫瑰_九星</td>\n",
       "      <td>5</td>\n",
       "      <td>7312748</td>\n",
       "      <td>17214</td>\n",
       "      <td>hour</td>\n",
       "      <td>2020-02-12 19:58:00</td>\n",
       "    </tr>\n",
       "  </tbody>\n",
       "</table>\n",
       "</div>"
      ],
      "text/plain": [
       "   contribution  liveStatus     nickname  rank        uid   roomId  type  \\\n",
       "0          5299           9           逗瓣     1    4416963      114  hour   \n",
       "1          4069           9       萌叽_三月三     2  130564791   930094  hour   \n",
       "2          3307           9  董咚儿_JLsound     3   84434603  1244753  hour   \n",
       "3          3173           9      亚辰_燃点娱乐     4  197467038  1587616  hour   \n",
       "4          2941           9      半岛玫瑰_九星     5    7312748    17214  hour   \n",
       "\n",
       "          create_time  \n",
       "0 2020-02-12 19:58:00  \n",
       "1 2020-02-12 19:58:00  \n",
       "2 2020-02-12 19:58:00  \n",
       "3 2020-02-12 19:58:00  \n",
       "4 2020-02-12 19:58:00  "
      ]
     },
     "execution_count": 15,
     "metadata": {},
     "output_type": "execute_result"
    }
   ],
   "source": [
    "df_hour['create_time'] = pd.to_datetime(df_hour['create_time'])\n",
    "df_hour.head()"
   ]
  },
  {
   "cell_type": "markdown",
   "metadata": {},
   "source": [
    "- 只取时分秒部分"
   ]
  },
  {
   "cell_type": "code",
   "execution_count": 16,
   "metadata": {},
   "outputs": [
    {
     "data": {
      "text/html": [
       "<div>\n",
       "<style scoped>\n",
       "    .dataframe tbody tr th:only-of-type {\n",
       "        vertical-align: middle;\n",
       "    }\n",
       "\n",
       "    .dataframe tbody tr th {\n",
       "        vertical-align: top;\n",
       "    }\n",
       "\n",
       "    .dataframe thead th {\n",
       "        text-align: right;\n",
       "    }\n",
       "</style>\n",
       "<table border=\"1\" class=\"dataframe\">\n",
       "  <thead>\n",
       "    <tr style=\"text-align: right;\">\n",
       "      <th></th>\n",
       "      <th>contribution</th>\n",
       "      <th>liveStatus</th>\n",
       "      <th>nickname</th>\n",
       "      <th>rank</th>\n",
       "      <th>uid</th>\n",
       "      <th>roomId</th>\n",
       "      <th>type</th>\n",
       "      <th>create_time</th>\n",
       "    </tr>\n",
       "  </thead>\n",
       "  <tbody>\n",
       "    <tr>\n",
       "      <td>0</td>\n",
       "      <td>5299</td>\n",
       "      <td>9</td>\n",
       "      <td>逗瓣</td>\n",
       "      <td>1</td>\n",
       "      <td>4416963</td>\n",
       "      <td>114</td>\n",
       "      <td>hour</td>\n",
       "      <td>19:58:00</td>\n",
       "    </tr>\n",
       "    <tr>\n",
       "      <td>1</td>\n",
       "      <td>4069</td>\n",
       "      <td>9</td>\n",
       "      <td>萌叽_三月三</td>\n",
       "      <td>2</td>\n",
       "      <td>130564791</td>\n",
       "      <td>930094</td>\n",
       "      <td>hour</td>\n",
       "      <td>19:58:00</td>\n",
       "    </tr>\n",
       "    <tr>\n",
       "      <td>2</td>\n",
       "      <td>3307</td>\n",
       "      <td>9</td>\n",
       "      <td>董咚儿_JLsound</td>\n",
       "      <td>3</td>\n",
       "      <td>84434603</td>\n",
       "      <td>1244753</td>\n",
       "      <td>hour</td>\n",
       "      <td>19:58:00</td>\n",
       "    </tr>\n",
       "    <tr>\n",
       "      <td>3</td>\n",
       "      <td>3173</td>\n",
       "      <td>9</td>\n",
       "      <td>亚辰_燃点娱乐</td>\n",
       "      <td>4</td>\n",
       "      <td>197467038</td>\n",
       "      <td>1587616</td>\n",
       "      <td>hour</td>\n",
       "      <td>19:58:00</td>\n",
       "    </tr>\n",
       "    <tr>\n",
       "      <td>4</td>\n",
       "      <td>2941</td>\n",
       "      <td>9</td>\n",
       "      <td>半岛玫瑰_九星</td>\n",
       "      <td>5</td>\n",
       "      <td>7312748</td>\n",
       "      <td>17214</td>\n",
       "      <td>hour</td>\n",
       "      <td>19:58:00</td>\n",
       "    </tr>\n",
       "  </tbody>\n",
       "</table>\n",
       "</div>"
      ],
      "text/plain": [
       "   contribution  liveStatus     nickname  rank        uid   roomId  type  \\\n",
       "0          5299           9           逗瓣     1    4416963      114  hour   \n",
       "1          4069           9       萌叽_三月三     2  130564791   930094  hour   \n",
       "2          3307           9  董咚儿_JLsound     3   84434603  1244753  hour   \n",
       "3          3173           9      亚辰_燃点娱乐     4  197467038  1587616  hour   \n",
       "4          2941           9      半岛玫瑰_九星     5    7312748    17214  hour   \n",
       "\n",
       "  create_time  \n",
       "0    19:58:00  \n",
       "1    19:58:00  \n",
       "2    19:58:00  \n",
       "3    19:58:00  \n",
       "4    19:58:00  "
      ]
     },
     "execution_count": 16,
     "metadata": {},
     "output_type": "execute_result"
    }
   ],
   "source": [
    "df_hour['create_time'] = df_hour['create_time'].dt.time\n",
    "df_hour.head()"
   ]
  },
  {
   "cell_type": "markdown",
   "metadata": {},
   "source": [
    "- 取出所有正在直播的记录"
   ]
  },
  {
   "cell_type": "code",
   "execution_count": 17,
   "metadata": {},
   "outputs": [
    {
     "data": {
      "text/html": [
       "<div>\n",
       "<style scoped>\n",
       "    .dataframe tbody tr th:only-of-type {\n",
       "        vertical-align: middle;\n",
       "    }\n",
       "\n",
       "    .dataframe tbody tr th {\n",
       "        vertical-align: top;\n",
       "    }\n",
       "\n",
       "    .dataframe thead th {\n",
       "        text-align: right;\n",
       "    }\n",
       "</style>\n",
       "<table border=\"1\" class=\"dataframe\">\n",
       "  <thead>\n",
       "    <tr style=\"text-align: right;\">\n",
       "      <th></th>\n",
       "      <th>contribution</th>\n",
       "      <th>liveStatus</th>\n",
       "      <th>nickname</th>\n",
       "      <th>rank</th>\n",
       "      <th>uid</th>\n",
       "      <th>roomId</th>\n",
       "      <th>type</th>\n",
       "      <th>create_time</th>\n",
       "    </tr>\n",
       "  </thead>\n",
       "  <tbody>\n",
       "    <tr>\n",
       "      <td>0</td>\n",
       "      <td>5299</td>\n",
       "      <td>9</td>\n",
       "      <td>逗瓣</td>\n",
       "      <td>1</td>\n",
       "      <td>4416963</td>\n",
       "      <td>114</td>\n",
       "      <td>hour</td>\n",
       "      <td>19:58:00</td>\n",
       "    </tr>\n",
       "    <tr>\n",
       "      <td>1</td>\n",
       "      <td>4069</td>\n",
       "      <td>9</td>\n",
       "      <td>萌叽_三月三</td>\n",
       "      <td>2</td>\n",
       "      <td>130564791</td>\n",
       "      <td>930094</td>\n",
       "      <td>hour</td>\n",
       "      <td>19:58:00</td>\n",
       "    </tr>\n",
       "    <tr>\n",
       "      <td>2</td>\n",
       "      <td>3307</td>\n",
       "      <td>9</td>\n",
       "      <td>董咚儿_JLsound</td>\n",
       "      <td>3</td>\n",
       "      <td>84434603</td>\n",
       "      <td>1244753</td>\n",
       "      <td>hour</td>\n",
       "      <td>19:58:00</td>\n",
       "    </tr>\n",
       "    <tr>\n",
       "      <td>3</td>\n",
       "      <td>3173</td>\n",
       "      <td>9</td>\n",
       "      <td>亚辰_燃点娱乐</td>\n",
       "      <td>4</td>\n",
       "      <td>197467038</td>\n",
       "      <td>1587616</td>\n",
       "      <td>hour</td>\n",
       "      <td>19:58:00</td>\n",
       "    </tr>\n",
       "    <tr>\n",
       "      <td>4</td>\n",
       "      <td>2941</td>\n",
       "      <td>9</td>\n",
       "      <td>半岛玫瑰_九星</td>\n",
       "      <td>5</td>\n",
       "      <td>7312748</td>\n",
       "      <td>17214</td>\n",
       "      <td>hour</td>\n",
       "      <td>19:58:00</td>\n",
       "    </tr>\n",
       "  </tbody>\n",
       "</table>\n",
       "</div>"
      ],
      "text/plain": [
       "   contribution  liveStatus     nickname  rank        uid   roomId  type  \\\n",
       "0          5299           9           逗瓣     1    4416963      114  hour   \n",
       "1          4069           9       萌叽_三月三     2  130564791   930094  hour   \n",
       "2          3307           9  董咚儿_JLsound     3   84434603  1244753  hour   \n",
       "3          3173           9      亚辰_燃点娱乐     4  197467038  1587616  hour   \n",
       "4          2941           9      半岛玫瑰_九星     5    7312748    17214  hour   \n",
       "\n",
       "  create_time  \n",
       "0    19:58:00  \n",
       "1    19:58:00  \n",
       "2    19:58:00  \n",
       "3    19:58:00  \n",
       "4    19:58:00  "
      ]
     },
     "execution_count": 17,
     "metadata": {},
     "output_type": "execute_result"
    }
   ],
   "source": [
    "df_live = df_hour[df_hour['liveStatus'] == 9]\n",
    "df_live.head()"
   ]
  },
  {
   "cell_type": "markdown",
   "metadata": {},
   "source": [
    "- 处理时间数据，将小时单独统计"
   ]
  },
  {
   "cell_type": "code",
   "execution_count": 18,
   "metadata": {},
   "outputs": [
    {
     "name": "stderr",
     "output_type": "stream",
     "text": [
      "/opt/conda/lib/python3.7/site-packages/pandas/core/indexing.py:376: SettingWithCopyWarning: \n",
      "A value is trying to be set on a copy of a slice from a DataFrame.\n",
      "Try using .loc[row_indexer,col_indexer] = value instead\n",
      "\n",
      "See the caveats in the documentation: http://pandas.pydata.org/pandas-docs/stable/user_guide/indexing.html#returning-a-view-versus-a-copy\n",
      "  self.obj[key] = _infer_fill_value(value)\n",
      "/opt/conda/lib/python3.7/site-packages/pandas/core/indexing.py:494: SettingWithCopyWarning: \n",
      "A value is trying to be set on a copy of a slice from a DataFrame.\n",
      "Try using .loc[row_indexer,col_indexer] = value instead\n",
      "\n",
      "See the caveats in the documentation: http://pandas.pydata.org/pandas-docs/stable/user_guide/indexing.html#returning-a-view-versus-a-copy\n",
      "  self.obj[item] = s\n"
     ]
    }
   ],
   "source": [
    "def to_hour(item):\n",
    "    return item.hour + 1\n",
    "df_live.loc[:, 'hour'] = df_live['create_time'].apply(to_hour)\n",
    "df_live = df_live.astype({'hour': np.int32})"
   ]
  },
  {
   "cell_type": "code",
   "execution_count": 22,
   "metadata": {},
   "outputs": [],
   "source": [
    "info_data = df_live['hour'].value_counts()"
   ]
  },
  {
   "cell_type": "markdown",
   "metadata": {},
   "source": [
    "- 绘制曲线图"
   ]
  },
  {
   "cell_type": "code",
   "execution_count": 23,
   "metadata": {},
   "outputs": [
    {
     "data": {
      "text/plain": [
       "1     511\n",
       "2     472\n",
       "3     430\n",
       "4     412\n",
       "5     386\n",
       "6     385\n",
       "7     343\n",
       "8     375\n",
       "9     470\n",
       "10    452\n",
       "11    533\n",
       "12    470\n",
       "13    456\n",
       "14    485\n",
       "15    513\n",
       "16    518\n",
       "17    485\n",
       "18    433\n",
       "19    423\n",
       "20    542\n",
       "21    508\n",
       "22    558\n",
       "23    520\n",
       "24    776\n",
       "Name: hour, dtype: int64"
      ]
     },
     "execution_count": 23,
     "metadata": {},
     "output_type": "execute_result"
    }
   ],
   "source": [
    "sort_data = info_data.sort_index()\n",
    "sort_data"
   ]
  },
  {
   "cell_type": "code",
   "execution_count": 21,
   "metadata": {},
   "outputs": [
    {
     "data": {
      "image/png": "[encoded data removed]",
      "text/plain": [
       "<Figure size 432x288 with 1 Axes>"
      ]
     },
     "metadata": {
      "needs_background": "light"
     },
     "output_type": "display_data"
    }
   ],
   "source": [
    "x = list(sort_data.index)\n",
    "y = list(sort_data.values)\n",
    "plt.plot(x, y)\n",
    "\n",
    "# 设置x轴的刻度\n",
    "plt.xticks(x)\n",
    "plt.xlabel('Time')\n",
    "plt.ylabel('Number of personnel')\n",
    "plt.title('Live broadcast Graph')\n",
    "plt.show()"
   ]
  },
  {
   "cell_type": "markdown",
   "metadata": {},
   "source": [
    "由上面的折线图可以看出每天晚上0点直播人数是最多的，其次就是黄金8点"
   ]
  },
  {
   "cell_type": "markdown",
   "metadata": {},
   "source": [
    "- 统计每个时间段的礼物数"
   ]
  },
  {
   "cell_type": "code",
   "execution_count": 24,
   "metadata": {},
   "outputs": [
    {
     "data": {
      "text/plain": [
       "hour\n",
       "1      3147870\n",
       "2      1649988\n",
       "3       825839\n",
       "4       585842\n",
       "5       394951\n",
       "6       351270\n",
       "7       315796\n",
       "8       412182\n",
       "9       423748\n",
       "10      808709\n",
       "11     1064388\n",
       "12     1030346\n",
       "13     1415808\n",
       "14     1367648\n",
       "15     1692000\n",
       "16     2015344\n",
       "17     1471033\n",
       "18     1125828\n",
       "19     1036943\n",
       "20     1595519\n",
       "21     2521951\n",
       "22     3731900\n",
       "23     3310312\n",
       "24    21246620\n",
       "Name: contribution, dtype: int64"
      ]
     },
     "execution_count": 24,
     "metadata": {},
     "output_type": "execute_result"
    }
   ],
   "source": [
    "# 按照时间段分组统计里无数\n",
    "con_data = df_live['contribution'].groupby(df_live['hour']).sum()\n",
    "con_data"
   ]
  },
  {
   "cell_type": "code",
   "execution_count": 25,
   "metadata": {},
   "outputs": [
    {
     "data": {
      "image/png": "[encoded data removed]",
      "text/plain": [
       "<Figure size 432x288 with 1 Axes>"
      ]
     },
     "metadata": {
      "needs_background": "light"
     },
     "output_type": "display_data"
    }
   ],
   "source": [
    "x = list(con_data.index)\n",
    "y = list(con_data.values)\n",
    "plt.plot(x, y)\n",
    "\n",
    "# 设置x轴的刻度\n",
    "plt.xticks(x)\n",
    "plt.xlabel('Time')\n",
    "plt.ylabel('Contribution')\n",
    "plt.title('Contribution Graph')\n",
    "plt.show()"
   ]
  },
  {
   "cell_type": "markdown",
   "metadata": {},
   "source": [
    "由上面的折线图我们可以看到每天22点-1点，礼物刷的是最多的，因为喜马拉雅上每日礼物结算最高的会有奖励，所以主播们这个时候也比较拼，当然各位土豪这个时候\n",
    "跟主播一起拼，这些大哥们也是挺会疼人的。"
   ]
  },
  {
   "cell_type": "markdown",
   "metadata": {},
   "source": [
    "接下来我们统计一下每天主播能获得多少礼物，哪些主播比较火，上榜次数多"
   ]
  },
  {
   "cell_type": "markdown",
   "metadata": {},
   "source": [
    "- 获取每天排行榜第一的主播"
   ]
  },
  {
   "cell_type": "code",
   "execution_count": 26,
   "metadata": {},
   "outputs": [
    {
     "data": {
      "text/html": [
       "<div>\n",
       "<style scoped>\n",
       "    .dataframe tbody tr th:only-of-type {\n",
       "        vertical-align: middle;\n",
       "    }\n",
       "\n",
       "    .dataframe tbody tr th {\n",
       "        vertical-align: top;\n",
       "    }\n",
       "\n",
       "    .dataframe thead th {\n",
       "        text-align: right;\n",
       "    }\n",
       "</style>\n",
       "<table border=\"1\" class=\"dataframe\">\n",
       "  <thead>\n",
       "    <tr style=\"text-align: right;\">\n",
       "      <th></th>\n",
       "      <th>contribution</th>\n",
       "      <th>liveStatus</th>\n",
       "      <th>nickname</th>\n",
       "      <th>rank</th>\n",
       "      <th>uid</th>\n",
       "      <th>roomId</th>\n",
       "      <th>type</th>\n",
       "      <th>create_time</th>\n",
       "    </tr>\n",
       "  </thead>\n",
       "  <tbody>\n",
       "    <tr>\n",
       "      <td>201</td>\n",
       "      <td>49505</td>\n",
       "      <td>9</td>\n",
       "      <td>蓝阿_</td>\n",
       "      <td>1</td>\n",
       "      <td>211012094</td>\n",
       "      <td>1733927</td>\n",
       "      <td>day</td>\n",
       "      <td>2020-02-12 23:58:00</td>\n",
       "    </tr>\n",
       "    <tr>\n",
       "      <td>203</td>\n",
       "      <td>48030</td>\n",
       "      <td>9</td>\n",
       "      <td>花千骨_九星</td>\n",
       "      <td>2</td>\n",
       "      <td>127140363</td>\n",
       "      <td>991808</td>\n",
       "      <td>day</td>\n",
       "      <td>2020-02-12 23:58:00</td>\n",
       "    </tr>\n",
       "    <tr>\n",
       "      <td>205</td>\n",
       "      <td>39055</td>\n",
       "      <td>9</td>\n",
       "      <td>温宁_Qy</td>\n",
       "      <td>3</td>\n",
       "      <td>110225008</td>\n",
       "      <td>461269</td>\n",
       "      <td>day</td>\n",
       "      <td>2020-02-12 23:58:00</td>\n",
       "    </tr>\n",
       "    <tr>\n",
       "      <td>207</td>\n",
       "      <td>38892</td>\n",
       "      <td>1</td>\n",
       "      <td>鹿苑_怪兽Monster</td>\n",
       "      <td>4</td>\n",
       "      <td>167258316</td>\n",
       "      <td>1125329</td>\n",
       "      <td>day</td>\n",
       "      <td>2020-02-12 23:58:00</td>\n",
       "    </tr>\n",
       "    <tr>\n",
       "      <td>209</td>\n",
       "      <td>38115</td>\n",
       "      <td>5</td>\n",
       "      <td>苏妃</td>\n",
       "      <td>5</td>\n",
       "      <td>157269668</td>\n",
       "      <td>1023237</td>\n",
       "      <td>day</td>\n",
       "      <td>2020-02-12 23:58:00</td>\n",
       "    </tr>\n",
       "    <tr>\n",
       "      <td>...</td>\n",
       "      <td>...</td>\n",
       "      <td>...</td>\n",
       "      <td>...</td>\n",
       "      <td>...</td>\n",
       "      <td>...</td>\n",
       "      <td>...</td>\n",
       "      <td>...</td>\n",
       "      <td>...</td>\n",
       "    </tr>\n",
       "    <tr>\n",
       "      <td>13642</td>\n",
       "      <td>14826</td>\n",
       "      <td>1</td>\n",
       "      <td>林御儿_九星</td>\n",
       "      <td>46</td>\n",
       "      <td>142093517</td>\n",
       "      <td>935525</td>\n",
       "      <td>day</td>\n",
       "      <td>2020-02-23 23:58:05</td>\n",
       "    </tr>\n",
       "    <tr>\n",
       "      <td>13645</td>\n",
       "      <td>14686</td>\n",
       "      <td>9</td>\n",
       "      <td>奶盖_Shiny</td>\n",
       "      <td>47</td>\n",
       "      <td>86127849</td>\n",
       "      <td>21963</td>\n",
       "      <td>day</td>\n",
       "      <td>2020-02-23 23:58:05</td>\n",
       "    </tr>\n",
       "    <tr>\n",
       "      <td>13648</td>\n",
       "      <td>14685</td>\n",
       "      <td>9</td>\n",
       "      <td>毒药_金牌段子手</td>\n",
       "      <td>48</td>\n",
       "      <td>196694943</td>\n",
       "      <td>1582890</td>\n",
       "      <td>day</td>\n",
       "      <td>2020-02-23 23:58:05</td>\n",
       "    </tr>\n",
       "    <tr>\n",
       "      <td>13651</td>\n",
       "      <td>14508</td>\n",
       "      <td>9</td>\n",
       "      <td>百万小姐姐</td>\n",
       "      <td>49</td>\n",
       "      <td>137683990</td>\n",
       "      <td>894720</td>\n",
       "      <td>day</td>\n",
       "      <td>2020-02-23 23:58:05</td>\n",
       "    </tr>\n",
       "    <tr>\n",
       "      <td>13654</td>\n",
       "      <td>14381</td>\n",
       "      <td>1</td>\n",
       "      <td>安哲_</td>\n",
       "      <td>50</td>\n",
       "      <td>61555170</td>\n",
       "      <td>863809</td>\n",
       "      <td>day</td>\n",
       "      <td>2020-02-23 23:58:05</td>\n",
       "    </tr>\n",
       "  </tbody>\n",
       "</table>\n",
       "<p>600 rows × 8 columns</p>\n",
       "</div>"
      ],
      "text/plain": [
       "       contribution  liveStatus      nickname  rank        uid   roomId type  \\\n",
       "201           49505           9           蓝阿_     1  211012094  1733927  day   \n",
       "203           48030           9        花千骨_九星     2  127140363   991808  day   \n",
       "205           39055           9         温宁_Qy     3  110225008   461269  day   \n",
       "207           38892           1  鹿苑_怪兽Monster     4  167258316  1125329  day   \n",
       "209           38115           5            苏妃     5  157269668  1023237  day   \n",
       "...             ...         ...           ...   ...        ...      ...  ...   \n",
       "13642         14826           1        林御儿_九星    46  142093517   935525  day   \n",
       "13645         14686           9      奶盖_Shiny    47   86127849    21963  day   \n",
       "13648         14685           9      毒药_金牌段子手    48  196694943  1582890  day   \n",
       "13651         14508           9         百万小姐姐    49  137683990   894720  day   \n",
       "13654         14381           1           安哲_    50   61555170   863809  day   \n",
       "\n",
       "               create_time  \n",
       "201    2020-02-12 23:58:00  \n",
       "203    2020-02-12 23:58:00  \n",
       "205    2020-02-12 23:58:00  \n",
       "207    2020-02-12 23:58:00  \n",
       "209    2020-02-12 23:58:00  \n",
       "...                    ...  \n",
       "13642  2020-02-23 23:58:05  \n",
       "13645  2020-02-23 23:58:05  \n",
       "13648  2020-02-23 23:58:05  \n",
       "13651  2020-02-23 23:58:05  \n",
       "13654  2020-02-23 23:58:05  \n",
       "\n",
       "[600 rows x 8 columns]"
      ]
     },
     "execution_count": 26,
     "metadata": {},
     "output_type": "execute_result"
    }
   ],
   "source": [
    "df_day = data[(data['type'] == 'day')]\n",
    "df_day"
   ]
  },
  {
   "cell_type": "code",
   "execution_count": 27,
   "metadata": {},
   "outputs": [
    {
     "data": {
      "image/png": "[encoded data removed]",
      "text/plain": [
       "<Figure size 1600x640 with 1 Axes>"
      ]
     },
     "metadata": {
      "needs_background": "light"
     },
     "output_type": "display_data"
    }
   ],
   "source": [
    "plt.figure(figsize=(20, 8), dpi=80)\n",
    "\n",
    "# 榜单第一名的数据\n",
    "df_rank1 = df_day[df_day['rank'] == 1]\n",
    "plt.plot(df_rank1['create_time'].str[:11], df_rank1['contribution'], label='Rank 1')\n",
    "\n",
    "# 榜单第一名的数据\n",
    "df_rank2 = df_day[df_day['rank'] == 2]\n",
    "plt.plot(df_rank2['create_time'].str[:11], df_rank2['contribution'], label='Rank 2')\n",
    "\n",
    "# 榜单第三名的数据\n",
    "df_rank3 = df_day[df_day['rank'] == 3]\n",
    "plt.plot(df_rank3['create_time'].str[:11], df_rank3['contribution'], label='Rank 3')\n",
    "\n",
    "plt.xlabel('Date')\n",
    "plt.ylabel('Number of personnel')\n",
    "plt.title('Live broadcast Graph')\n",
    "\n",
    "# 显示图例，并定位在中间\n",
    "plt.legend(loc='upper center')\n",
    "\n",
    "step = (max(df_rank1['contribution']) + 1 - min(df_rank1['contribution'])) / len(df_rank1)\n",
    "plt.yticks(range(min(df_day['contribution']), max(df_day['contribution']) + 1, int(step)))\n",
    "plt.show()"
   ]
  },
  {
   "cell_type": "markdown",
   "metadata": {},
   "source": [
    "因为我们抓取的数据量比较小，时间短，不能真实反映直播状况，所以我们选择绘制每天排名前三的主播礼物信息，根据图上我们发现**13、16号的\n",
    "礼物**数量相对比较高。至于23号那个突破天际的，有可能是大哥喝酒了或者主播又开了一个什么特别场，比如周年场、生日场之类的。这种时候大哥\n",
    "们也比较嗨，终于有一个特别的日子可以为自己的小甜甜挥霍了。"
   ]
  },
  {
   "cell_type": "markdown",
   "metadata": {},
   "source": [
    "接下来我们从小时榜里看看哪些主播出现次数比较多"
   ]
  },
  {
   "cell_type": "markdown",
   "metadata": {},
   "source": [
    "- 热门主播"
   ]
  },
  {
   "cell_type": "code",
   "execution_count": 28,
   "metadata": {},
   "outputs": [
    {
     "data": {
      "text/html": [
       "<div>\n",
       "<style scoped>\n",
       "    .dataframe tbody tr th:only-of-type {\n",
       "        vertical-align: middle;\n",
       "    }\n",
       "\n",
       "    .dataframe tbody tr th {\n",
       "        vertical-align: top;\n",
       "    }\n",
       "\n",
       "    .dataframe thead th {\n",
       "        text-align: right;\n",
       "    }\n",
       "</style>\n",
       "<table border=\"1\" class=\"dataframe\">\n",
       "  <thead>\n",
       "    <tr style=\"text-align: right;\">\n",
       "      <th></th>\n",
       "      <th>contribution</th>\n",
       "      <th>liveStatus</th>\n",
       "      <th>nickname</th>\n",
       "      <th>rank</th>\n",
       "      <th>uid</th>\n",
       "      <th>roomId</th>\n",
       "      <th>type</th>\n",
       "      <th>create_time</th>\n",
       "    </tr>\n",
       "  </thead>\n",
       "  <tbody>\n",
       "    <tr>\n",
       "      <td>0</td>\n",
       "      <td>5299</td>\n",
       "      <td>9</td>\n",
       "      <td>逗瓣</td>\n",
       "      <td>1</td>\n",
       "      <td>4416963</td>\n",
       "      <td>114</td>\n",
       "      <td>hour</td>\n",
       "      <td>2020-02-12 19:58:00</td>\n",
       "    </tr>\n",
       "    <tr>\n",
       "      <td>1</td>\n",
       "      <td>4069</td>\n",
       "      <td>9</td>\n",
       "      <td>萌叽_三月三</td>\n",
       "      <td>2</td>\n",
       "      <td>130564791</td>\n",
       "      <td>930094</td>\n",
       "      <td>hour</td>\n",
       "      <td>2020-02-12 19:58:00</td>\n",
       "    </tr>\n",
       "    <tr>\n",
       "      <td>2</td>\n",
       "      <td>3307</td>\n",
       "      <td>9</td>\n",
       "      <td>董咚儿_JLsound</td>\n",
       "      <td>3</td>\n",
       "      <td>84434603</td>\n",
       "      <td>1244753</td>\n",
       "      <td>hour</td>\n",
       "      <td>2020-02-12 19:58:00</td>\n",
       "    </tr>\n",
       "    <tr>\n",
       "      <td>3</td>\n",
       "      <td>3173</td>\n",
       "      <td>9</td>\n",
       "      <td>亚辰_燃点娱乐</td>\n",
       "      <td>4</td>\n",
       "      <td>197467038</td>\n",
       "      <td>1587616</td>\n",
       "      <td>hour</td>\n",
       "      <td>2020-02-12 19:58:00</td>\n",
       "    </tr>\n",
       "    <tr>\n",
       "      <td>4</td>\n",
       "      <td>2941</td>\n",
       "      <td>9</td>\n",
       "      <td>半岛玫瑰_九星</td>\n",
       "      <td>5</td>\n",
       "      <td>7312748</td>\n",
       "      <td>17214</td>\n",
       "      <td>hour</td>\n",
       "      <td>2020-02-12 19:58:00</td>\n",
       "    </tr>\n",
       "  </tbody>\n",
       "</table>\n",
       "</div>"
      ],
      "text/plain": [
       "   contribution  liveStatus     nickname  rank        uid   roomId  type  \\\n",
       "0          5299           9           逗瓣     1    4416963      114  hour   \n",
       "1          4069           9       萌叽_三月三     2  130564791   930094  hour   \n",
       "2          3307           9  董咚儿_JLsound     3   84434603  1244753  hour   \n",
       "3          3173           9      亚辰_燃点娱乐     4  197467038  1587616  hour   \n",
       "4          2941           9      半岛玫瑰_九星     5    7312748    17214  hour   \n",
       "\n",
       "           create_time  \n",
       "0  2020-02-12 19:58:00  \n",
       "1  2020-02-12 19:58:00  \n",
       "2  2020-02-12 19:58:00  \n",
       "3  2020-02-12 19:58:00  \n",
       "4  2020-02-12 19:58:00  "
      ]
     },
     "execution_count": 28,
     "metadata": {},
     "output_type": "execute_result"
    }
   ],
   "source": [
    "df_hot = data[data['type'] == 'hour']\n",
    "df_hot.head()"
   ]
  },
  {
   "cell_type": "markdown",
   "metadata": {},
   "source": [
    "- 按照主播名统计在小时榜出现的次数"
   ]
  },
  {
   "cell_type": "code",
   "execution_count": 29,
   "metadata": {},
   "outputs": [
    {
     "data": {
      "text/plain": [
       "陈臻臻           99\n",
       "苏妃            93\n",
       "阿西_           87\n",
       "Star_黄泥       78\n",
       "木子晶_浅音        77\n",
       "              ..\n",
       "听枫_合耳盟         1\n",
       "张筱筠__鸿啸        1\n",
       "一只过分迷人的小浪辞     1\n",
       "Ellen_静        1\n",
       "21点57慕_九星      1\n",
       "Name: nickname, Length: 2034, dtype: int64"
      ]
     },
     "execution_count": 29,
     "metadata": {},
     "output_type": "execute_result"
    }
   ],
   "source": [
    "df_hot['nickname'].value_counts()"
   ]
  },
  {
   "cell_type": "markdown",
   "metadata": {},
   "source": [
    "我们把排名前三的主播直播时间绘制出来，看一看他们的直播规律"
   ]
  },
  {
   "cell_type": "markdown",
   "metadata": {},
   "source": [
    "- 同样的转换时间为小时"
   ]
  },
  {
   "cell_type": "code",
   "execution_count": 30,
   "metadata": {},
   "outputs": [
    {
     "data": {
      "text/html": [
       "<div>\n",
       "<style scoped>\n",
       "    .dataframe tbody tr th:only-of-type {\n",
       "        vertical-align: middle;\n",
       "    }\n",
       "\n",
       "    .dataframe tbody tr th {\n",
       "        vertical-align: top;\n",
       "    }\n",
       "\n",
       "    .dataframe thead th {\n",
       "        text-align: right;\n",
       "    }\n",
       "</style>\n",
       "<table border=\"1\" class=\"dataframe\">\n",
       "  <thead>\n",
       "    <tr style=\"text-align: right;\">\n",
       "      <th></th>\n",
       "      <th>contribution</th>\n",
       "      <th>liveStatus</th>\n",
       "      <th>nickname</th>\n",
       "      <th>rank</th>\n",
       "      <th>uid</th>\n",
       "      <th>roomId</th>\n",
       "      <th>type</th>\n",
       "      <th>create_time</th>\n",
       "      <th>hour</th>\n",
       "    </tr>\n",
       "  </thead>\n",
       "  <tbody>\n",
       "    <tr>\n",
       "      <td>0</td>\n",
       "      <td>5299</td>\n",
       "      <td>9</td>\n",
       "      <td>逗瓣</td>\n",
       "      <td>1</td>\n",
       "      <td>4416963</td>\n",
       "      <td>114</td>\n",
       "      <td>hour</td>\n",
       "      <td>2020-02-12 19:58:00</td>\n",
       "      <td>20</td>\n",
       "    </tr>\n",
       "    <tr>\n",
       "      <td>1</td>\n",
       "      <td>4069</td>\n",
       "      <td>9</td>\n",
       "      <td>萌叽_三月三</td>\n",
       "      <td>2</td>\n",
       "      <td>130564791</td>\n",
       "      <td>930094</td>\n",
       "      <td>hour</td>\n",
       "      <td>2020-02-12 19:58:00</td>\n",
       "      <td>20</td>\n",
       "    </tr>\n",
       "    <tr>\n",
       "      <td>2</td>\n",
       "      <td>3307</td>\n",
       "      <td>9</td>\n",
       "      <td>董咚儿_JLsound</td>\n",
       "      <td>3</td>\n",
       "      <td>84434603</td>\n",
       "      <td>1244753</td>\n",
       "      <td>hour</td>\n",
       "      <td>2020-02-12 19:58:00</td>\n",
       "      <td>20</td>\n",
       "    </tr>\n",
       "    <tr>\n",
       "      <td>3</td>\n",
       "      <td>3173</td>\n",
       "      <td>9</td>\n",
       "      <td>亚辰_燃点娱乐</td>\n",
       "      <td>4</td>\n",
       "      <td>197467038</td>\n",
       "      <td>1587616</td>\n",
       "      <td>hour</td>\n",
       "      <td>2020-02-12 19:58:00</td>\n",
       "      <td>20</td>\n",
       "    </tr>\n",
       "    <tr>\n",
       "      <td>4</td>\n",
       "      <td>2941</td>\n",
       "      <td>9</td>\n",
       "      <td>半岛玫瑰_九星</td>\n",
       "      <td>5</td>\n",
       "      <td>7312748</td>\n",
       "      <td>17214</td>\n",
       "      <td>hour</td>\n",
       "      <td>2020-02-12 19:58:00</td>\n",
       "      <td>20</td>\n",
       "    </tr>\n",
       "  </tbody>\n",
       "</table>\n",
       "</div>"
      ],
      "text/plain": [
       "   contribution  liveStatus     nickname  rank        uid   roomId  type  \\\n",
       "0          5299           9           逗瓣     1    4416963      114  hour   \n",
       "1          4069           9       萌叽_三月三     2  130564791   930094  hour   \n",
       "2          3307           9  董咚儿_JLsound     3   84434603  1244753  hour   \n",
       "3          3173           9      亚辰_燃点娱乐     4  197467038  1587616  hour   \n",
       "4          2941           9      半岛玫瑰_九星     5    7312748    17214  hour   \n",
       "\n",
       "           create_time  hour  \n",
       "0  2020-02-12 19:58:00    20  \n",
       "1  2020-02-12 19:58:00    20  \n",
       "2  2020-02-12 19:58:00    20  \n",
       "3  2020-02-12 19:58:00    20  \n",
       "4  2020-02-12 19:58:00    20  "
      ]
     },
     "execution_count": 30,
     "metadata": {},
     "output_type": "execute_result"
    }
   ],
   "source": [
    "def to_hour(item):\n",
    "    return int(item[11:13]) + 1\n",
    "df_hot.loc[:, 'hour'] = df_hot['create_time'].apply(to_hour)\n",
    "df_hot = df_hot.astype({'hour': np.int32})\n",
    "df_hot.head()"
   ]
  },
  {
   "cell_type": "code",
   "execution_count": 31,
   "metadata": {},
   "outputs": [],
   "source": [
    "# 陈臻臻\n",
    "hot_df1 = df_hot[df_hot['nickname'] == '陈臻臻']\n",
    "\n",
    "# 直播次数\n",
    "hot_data1 = hot_df1['hour'].value_counts()\n",
    "hot_data1 = hot_data1.sort_index()\n",
    "\n",
    "# 获得礼物数\n",
    "hot_gift1 = hot_df1['contribution'].groupby(hot_df1['hour']).sum()\n",
    "\n",
    "\n",
    "# 苏妃\n",
    "hot_df2 = df_hot[df_hot['nickname'] == '苏妃']\n",
    "hot_data2 = hot_df2['hour'].value_counts()\n",
    "hot_data2 = hot_data2.sort_index()\n",
    "hot_gift2 = hot_df2['contribution'].groupby(hot_df2['hour']).sum()\n",
    "\n",
    "# 阿西_\n",
    "hot_df3 = df_hot[df_hot['nickname'] == '阿西_']\n",
    "hot_data3 = hot_df3['hour'].value_counts()\n",
    "hot_data3 = hot_data3.sort_index()\n",
    "hot_gift3 = hot_df3['contribution'].groupby(hot_df3['hour']).sum()"
   ]
  },
  {
   "cell_type": "code",
   "execution_count": 32,
   "metadata": {},
   "outputs": [
    {
     "data": {
      "image/png": "[encoded data removed]",
      "text/plain": [
       "<Figure size 1600x640 with 2 Axes>"
      ]
     },
     "metadata": {
      "needs_background": "light"
     },
     "output_type": "display_data"
    }
   ],
   "source": [
    "fig = plt.figure(figsize=(20, 8), dpi=80)\n",
    "\n",
    "ax = fig.add_subplot()\n",
    "\n",
    "# 绘制直播次数图\n",
    "ax.plot(hot_data1.index, hot_data1.values, label='chen zhenzhen', color='red')\n",
    "ax.plot(hot_data2.index, hot_data2.values, label='sufei', color='blue')\n",
    "ax.plot(hot_data3.index, hot_data3.values, label='axi_', color='green')\n",
    "ax.legend(loc='upper left')\n",
    "\n",
    "# 绘制直播收益图\n",
    "ax1 = ax.twinx()\n",
    "ax1.plot(hot_gift1.index, hot_gift1.values, '--', label='chen zhenzhen', color='red')\n",
    "ax1.plot(hot_gift2.index, hot_gift2.values, '--', label='sufei', color='blue')\n",
    "ax1.plot(hot_gift3.index, hot_gift3.values, '--', label='axi_', color='green')\n",
    "ax1.legend(loc='upper right')\n",
    "\n",
    "plt.xticks(range(25))\n",
    "\n",
    "plt.show()"
   ]
  },
  {
   "cell_type": "markdown",
   "metadata": {},
   "source": [
    "通过以上数据我们发现陈臻臻的直播时间大概集中在晚上23~8点，小妹妹蜀黍建议你不能老是这样哦，会熬坏身体滴^_^。同时这个小妹妹为我们提\n",
    "供了一个隐性的数据。按道理小时榜比较多的情况下，日榜应该也会比较高，但是这个小妹却不遵循这样的规律。那么我们得出一个结论：熬夜的人\n",
    "比较少，主播和观众都一样，因此这个小妹有幸霸榜。\n",
    "\n",
    "第二名苏妃这个直播时间比较魔性，高峰期出现在3点、17点、21点、23点，这位老妹你要注意身体，每天休息的时间好像就早上那么一会了。\n",
    "\n",
    "第三名阿西_高峰期出现在3点、17点，相对来说稍微好一点。\n",
    "\n",
    "从收益来看，收益最高是阿西_，在下午16点，其次是苏妃，在晚上22点，从上面我们也可以看出，苏妃虽然在凌晨和下午直播频次也比较高，但是\n",
    "收益比较低，说明她的大哥在这个时间段是不出没的，这个时间段收益比不高，建议这位小妹可以减少这两个时段的直播次数。陈臻臻同学的直播收益正如我们上面所分析的，虽然霸榜次数多，但是人少，整体收益也少。"
   ]
  },
  {
   "cell_type": "markdown",
   "metadata": {},
   "source": [
    "最后我们点一下题，看看这些**主播到底有多赚钱**"
   ]
  },
  {
   "cell_type": "markdown",
   "metadata": {},
   "source": [
    "因为我只抓取了12天的数据，我们就汇总这12天的数据进行计算，按主播进行分类，把日榜当中的所有收益加起来，喜马拉雅上的喜爱值和现金转换：\n",
    "基本是一块钱的礼物有3个喜爱值，礼物越大，喜爱值越多，我们按照4个算一块钱。这些收益到主播手里还有比较复杂的计算方式，比如工会收成、\n",
    "任务完成后分得的比例增大等等，我们就粗暴一点，用最低的方式来计算主播收益，基本就是折半。"
   ]
  },
  {
   "cell_type": "code",
   "execution_count": 33,
   "metadata": {},
   "outputs": [],
   "source": [
    "income_data = df_day['contribution'].groupby(df_day['nickname']).sum()"
   ]
  },
  {
   "cell_type": "code",
   "execution_count": 34,
   "metadata": {},
   "outputs": [],
   "source": [
    "income_data = income_data / 8"
   ]
  },
  {
   "cell_type": "code",
   "execution_count": 35,
   "metadata": {},
   "outputs": [],
   "source": [
    "income_data = income_data.sort_values()"
   ]
  },
  {
   "cell_type": "markdown",
   "metadata": {},
   "source": [
    "- 赚钱最多和最少的"
   ]
  },
  {
   "cell_type": "code",
   "execution_count": 36,
   "metadata": {},
   "outputs": [
    {
     "data": {
      "text/plain": [
       "(77587.75, 1673.25)"
      ]
     },
     "execution_count": 36,
     "metadata": {},
     "output_type": "execute_result"
    }
   ],
   "source": [
    "max(income_data), min(income_data)"
   ]
  },
  {
   "cell_type": "markdown",
   "metadata": {},
   "source": [
    "我们把赚钱最多的十位主播绘制出来看看"
   ]
  },
  {
   "cell_type": "code",
   "execution_count": 37,
   "metadata": {},
   "outputs": [
    {
     "data": {
      "text/plain": [
       "nickname\n",
       "薇安_千凰       48905.500\n",
       "小乞丐_SoMo    49536.250\n",
       "Star_大熊     50382.875\n",
       "苏妃          55095.000\n",
       "TL_諾允       56111.625\n",
       "三叁          58412.625\n",
       "阿西_         73316.625\n",
       "NJ语瞳        74589.250\n",
       "Cc丶_        75295.125\n",
       "貂蝉宝宝_九星     77587.750\n",
       "Name: contribution, dtype: float64"
      ]
     },
     "execution_count": 37,
     "metadata": {},
     "output_type": "execute_result"
    }
   ],
   "source": [
    "max_income = income_data[-10:]\n",
    "max_income"
   ]
  },
  {
   "cell_type": "code",
   "execution_count": 38,
   "metadata": {},
   "outputs": [
    {
     "data": {
      "image/png": "[encoded data removed]",
      "text/plain": [
       "<Figure size 1200x640 with 1 Axes>"
      ]
     },
     "metadata": {
      "needs_background": "light"
     },
     "output_type": "display_data"
    }
   ],
   "source": [
    "plt.figure(figsize=(15, 8), dpi=80)\n",
    "plt.bar(range(10), max_income.values, width=0.3, color='red')\n",
    "plt.xticks(range(10), max_income.index)\n",
    "\n",
    "for i in range(10):\n",
    "    plt.text(i - 0.3, max_income.values[i]+1000, str(max_income.values[i]) + '元')\n",
    "plt.show()"
   ]
  },
  {
   "cell_type": "markdown",
   "metadata": {},
   "source": [
    "### 总结\n",
    "仅仅12天，最高收益达到了接近8万，我们还是按最低收益方式计算的，听众消费消费金额逼近20万，当然通过上面的那些分析，我们知道真正赚钱\n",
    "的主播只有那么几十人而已，虽然很赚钱，你也不要羡慕，不要只看表面的风光，人家在背后还有努力哦^_^"
   ]
  },
  {
   "cell_type": "markdown",
   "metadata": {},
   "source": [
    "今天我们只分析了主播榜单的一些数据，当然还有其他的信息可以挖掘，我会把爬取的数据上传到GitHub项目上，另外我们还爬取了主播直播间信息，\n",
    "也是有很多可以分析的点，后面有时间再说吧。数据我们也会上传到GitHub上，有兴趣的同学可以自己分析"
   ]
  },
  {
   "cell_type": "code",
   "execution_count": null,
   "metadata": {},
   "outputs": [],
   "source": []
  }
 ],
 "metadata": {
  "kernelspec": {
   "display_name": "Python 3",
   "language": "python",
   "name": "python3"
  },
  "language_info": {
   "codemirror_mode": {
    "name": "ipython",
    "version": 3
   },
   "file_extension": ".py",
   "mimetype": "text/x-python",
   "name": "python",
   "nbconvert_exporter": "python",
   "pygments_lexer": "ipython3",
   "version": "3.7.4"
  }
 },
 "nbformat": 4,
 "nbformat_minor": 4
}
